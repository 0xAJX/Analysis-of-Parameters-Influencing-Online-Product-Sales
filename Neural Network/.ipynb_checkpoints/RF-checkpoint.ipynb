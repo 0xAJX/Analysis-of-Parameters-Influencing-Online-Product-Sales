{
 "cells": [
  {
   "cell_type": "code",
   "execution_count": 20,
   "metadata": {
    "collapsed": true
   },
   "outputs": [],
   "source": [
    "import numpy as np\n",
    "import matplotlib.pyplot as plt\n",
    "import pandas as pd"
   ]
  },
  {
   "cell_type": "code",
   "execution_count": 21,
   "metadata": {
    "collapsed": true
   },
   "outputs": [],
   "source": [
    "# dataset = pd.read_csv('datafinal.csv')\n",
    "# labels = np.array(dataset['sales_rank'])\n",
    "# features = dataset.drop('sales_rank', axis=1)\n",
    "# Saving feature names for later use\n",
    "# feature_list = list(features.columns)\n",
    "# features = np.array(features)dataset = pd.read_csv('data2.csv')\n",
    "\n",
    "dataset = pd.read_csv('datafinal.csv')\n"
   ]
  },
  {
   "cell_type": "code",
   "execution_count": 22,
   "metadata": {
    "collapsed": true
   },
   "outputs": [],
   "source": [
    "dataset['sales_rank'] = dataset['sales_rank'].str.replace(',', '').astype(float)\n",
    "dataset['5_rating'] = dataset['5_rating'].astype('float')\n",
    "dataset['3_rating'] = dataset['3_rating'].astype('float')\n",
    "dataset['2_rating'] = dataset['2_rating'].astype('float')\n",
    "dataset['1_rating'] = dataset['1_rating'].astype('float')\n",
    "dataset['customer_reviews'] = dataset['customer_reviews'].str.replace(',', '').astype(float)\n",
    "dataset['discount_rate'] = dataset['discount_rate'].astype('float')"
   ]
  },
  {
   "cell_type": "code",
   "execution_count": 23,
   "metadata": {},
   "outputs": [
    {
     "data": {
      "text/html": [
       "<div>\n",
       "<style>\n",
       "    .dataframe thead tr:only-child th {\n",
       "        text-align: right;\n",
       "    }\n",
       "\n",
       "    .dataframe thead th {\n",
       "        text-align: left;\n",
       "    }\n",
       "\n",
       "    .dataframe tbody tr th {\n",
       "        vertical-align: top;\n",
       "    }\n",
       "</style>\n",
       "<table border=\"1\" class=\"dataframe\">\n",
       "  <thead>\n",
       "    <tr style=\"text-align: right;\">\n",
       "      <th></th>\n",
       "      <th>sales_rank</th>\n",
       "      <th>5_rating</th>\n",
       "      <th>4_rating</th>\n",
       "      <th>3_rating</th>\n",
       "      <th>2_rating</th>\n",
       "      <th>1_rating</th>\n",
       "      <th>customer_reviews</th>\n",
       "      <th>discount_value</th>\n",
       "      <th>discount_rate</th>\n",
       "    </tr>\n",
       "  </thead>\n",
       "  <tbody>\n",
       "    <tr>\n",
       "      <th>count</th>\n",
       "      <td>1042.000000</td>\n",
       "      <td>1042.000000</td>\n",
       "      <td>1041.000000</td>\n",
       "      <td>1042.000000</td>\n",
       "      <td>1042.000000</td>\n",
       "      <td>1042.000000</td>\n",
       "      <td>1042.000000</td>\n",
       "      <td>1041.000000</td>\n",
       "      <td>1042.000000</td>\n",
       "    </tr>\n",
       "    <tr>\n",
       "      <th>mean</th>\n",
       "      <td>5156.595969</td>\n",
       "      <td>64.385797</td>\n",
       "      <td>19.652257</td>\n",
       "      <td>6.880038</td>\n",
       "      <td>3.129559</td>\n",
       "      <td>5.779271</td>\n",
       "      <td>158.578695</td>\n",
       "      <td>101.832978</td>\n",
       "      <td>25.672745</td>\n",
       "    </tr>\n",
       "    <tr>\n",
       "      <th>std</th>\n",
       "      <td>5262.453093</td>\n",
       "      <td>13.541302</td>\n",
       "      <td>7.622721</td>\n",
       "      <td>4.981619</td>\n",
       "      <td>3.618916</td>\n",
       "      <td>6.436659</td>\n",
       "      <td>438.685038</td>\n",
       "      <td>105.287408</td>\n",
       "      <td>18.483407</td>\n",
       "    </tr>\n",
       "    <tr>\n",
       "      <th>min</th>\n",
       "      <td>22.000000</td>\n",
       "      <td>0.000000</td>\n",
       "      <td>0.000000</td>\n",
       "      <td>0.000000</td>\n",
       "      <td>0.000000</td>\n",
       "      <td>0.000000</td>\n",
       "      <td>0.000000</td>\n",
       "      <td>0.000000</td>\n",
       "      <td>0.000000</td>\n",
       "    </tr>\n",
       "    <tr>\n",
       "      <th>25%</th>\n",
       "      <td>1637.250000</td>\n",
       "      <td>56.250000</td>\n",
       "      <td>15.000000</td>\n",
       "      <td>3.000000</td>\n",
       "      <td>0.000000</td>\n",
       "      <td>2.000000</td>\n",
       "      <td>29.250000</td>\n",
       "      <td>20.000000</td>\n",
       "      <td>10.000000</td>\n",
       "    </tr>\n",
       "    <tr>\n",
       "      <th>50%</th>\n",
       "      <td>3665.500000</td>\n",
       "      <td>65.000000</td>\n",
       "      <td>19.000000</td>\n",
       "      <td>6.000000</td>\n",
       "      <td>2.000000</td>\n",
       "      <td>4.000000</td>\n",
       "      <td>60.000000</td>\n",
       "      <td>78.000000</td>\n",
       "      <td>25.000000</td>\n",
       "    </tr>\n",
       "    <tr>\n",
       "      <th>75%</th>\n",
       "      <td>6340.750000</td>\n",
       "      <td>73.000000</td>\n",
       "      <td>24.000000</td>\n",
       "      <td>10.000000</td>\n",
       "      <td>5.000000</td>\n",
       "      <td>8.000000</td>\n",
       "      <td>128.750000</td>\n",
       "      <td>152.000000</td>\n",
       "      <td>40.000000</td>\n",
       "    </tr>\n",
       "    <tr>\n",
       "      <th>max</th>\n",
       "      <td>29683.000000</td>\n",
       "      <td>100.000000</td>\n",
       "      <td>50.000000</td>\n",
       "      <td>50.000000</td>\n",
       "      <td>33.000000</td>\n",
       "      <td>100.000000</td>\n",
       "      <td>5311.000000</td>\n",
       "      <td>850.000000</td>\n",
       "      <td>99.000000</td>\n",
       "    </tr>\n",
       "  </tbody>\n",
       "</table>\n",
       "</div>"
      ],
      "text/plain": [
       "         sales_rank     5_rating     4_rating     3_rating     2_rating  \\\n",
       "count   1042.000000  1042.000000  1041.000000  1042.000000  1042.000000   \n",
       "mean    5156.595969    64.385797    19.652257     6.880038     3.129559   \n",
       "std     5262.453093    13.541302     7.622721     4.981619     3.618916   \n",
       "min       22.000000     0.000000     0.000000     0.000000     0.000000   \n",
       "25%     1637.250000    56.250000    15.000000     3.000000     0.000000   \n",
       "50%     3665.500000    65.000000    19.000000     6.000000     2.000000   \n",
       "75%     6340.750000    73.000000    24.000000    10.000000     5.000000   \n",
       "max    29683.000000   100.000000    50.000000    50.000000    33.000000   \n",
       "\n",
       "          1_rating  customer_reviews  discount_value  discount_rate  \n",
       "count  1042.000000       1042.000000     1041.000000    1042.000000  \n",
       "mean      5.779271        158.578695      101.832978      25.672745  \n",
       "std       6.436659        438.685038      105.287408      18.483407  \n",
       "min       0.000000          0.000000        0.000000       0.000000  \n",
       "25%       2.000000         29.250000       20.000000      10.000000  \n",
       "50%       4.000000         60.000000       78.000000      25.000000  \n",
       "75%       8.000000        128.750000      152.000000      40.000000  \n",
       "max     100.000000       5311.000000      850.000000      99.000000  "
      ]
     },
     "execution_count": 23,
     "metadata": {},
     "output_type": "execute_result"
    }
   ],
   "source": [
    "dataset.describe()"
   ]
  },
  {
   "cell_type": "code",
   "execution_count": 24,
   "metadata": {},
   "outputs": [
    {
     "data": {
      "text/plain": [
       "Index(['sales_rank', '5_rating', '4_rating', '3_rating', '2_rating',\n",
       "       '1_rating', 'customer_reviews', 'discount_value', 'discount_rate'],\n",
       "      dtype='object')"
      ]
     },
     "execution_count": 24,
     "metadata": {},
     "output_type": "execute_result"
    }
   ],
   "source": [
    "dataset.columns"
   ]
  },
  {
   "cell_type": "code",
   "execution_count": 26,
   "metadata": {
    "collapsed": true
   },
   "outputs": [],
   "source": [
    "# dataset = pd.read_csv('data2.csv')\n",
    "# X: independent variable matrix & y: dependent variable vector\n",
    "# features = dataset.iloc[:,1:9].values\n",
    "# feature_list = list(features.columns)\n",
    "# X = pd.DataFrame(X)\n",
    "# labels  = dataset.iloc[:,0].values\n",
    "\n",
    "labels = np.array(dataset['sales_rank'])\n",
    "features = dataset.drop('sales_rank', axis=1)\n",
    "# Saving feature names for later use\n",
    "feature_list = list(features.columns)\n",
    "features = np.array(features)"
   ]
  },
  {
   "cell_type": "code",
   "execution_count": 27,
   "metadata": {},
   "outputs": [
    {
     "data": {
      "text/plain": [
       "array([[  65.  ,   14.  ,   11.  , ...,  113.  ,    0.  ,    0.  ],\n",
       "       [  55.  ,   30.  ,   11.  , ...,   44.  ,   79.  ,    0.  ],\n",
       "       [  76.  ,   21.  ,    0.  , ...,   38.  ,   68.  ,   27.  ],\n",
       "       ..., \n",
       "       [  60.  ,   31.  ,    5.  , ...,   84.  ,   20.  ,   10.  ],\n",
       "       [  55.  ,   17.  ,    6.  , ...,   64.  ,   88.  ,   22.  ],\n",
       "       [  72.  ,   18.  ,    8.  , ...,  131.  ,  149.34,   21.  ]])"
      ]
     },
     "execution_count": 27,
     "metadata": {},
     "output_type": "execute_result"
    }
   ],
   "source": [
    "features"
   ]
  },
  {
   "cell_type": "code",
   "execution_count": 28,
   "metadata": {
    "collapsed": true
   },
   "outputs": [],
   "source": [
    "# np.where(np.isnan(features))\n",
    "features = np.nan_to_num(features)\n",
    "# fill nan with 0\n",
    "# df.fillna(0)"
   ]
  },
  {
   "cell_type": "code",
   "execution_count": 29,
   "metadata": {
    "collapsed": true
   },
   "outputs": [],
   "source": [
    "# Using Skicit-learn to split data into training and testing sets\n",
    "from sklearn.model_selection import train_test_split\n",
    "\n",
    "# Split the data into training and testing sets\n",
    "train_features, test_features, train_labels, test_labels = train_test_split(features, labels, test_size = 0.2, random_state = 0)"
   ]
  },
  {
   "cell_type": "code",
   "execution_count": 30,
   "metadata": {
    "collapsed": true
   },
   "outputs": [],
   "source": [
    "# Import the model we are using\n",
    "from sklearn.ensemble import RandomForestRegressor\n",
    "\n",
    "# Instantiate model with 100 decision trees\n",
    "rf = RandomForestRegressor(n_estimators = 200, random_state = 0)"
   ]
  },
  {
   "cell_type": "code",
   "execution_count": 31,
   "metadata": {
    "collapsed": true
   },
   "outputs": [],
   "source": [
    "# Train the model on training data\n",
    "rf.fit(features, labels);"
   ]
  },
  {
   "cell_type": "code",
   "execution_count": 32,
   "metadata": {
    "collapsed": true
   },
   "outputs": [],
   "source": [
    "# Use the forest's predict method on the test data\n",
    "predictions = rf.predict(test_features)"
   ]
  },
  {
   "cell_type": "code",
   "execution_count": 33,
   "metadata": {},
   "outputs": [
    {
     "data": {
      "text/plain": [
       "array([   473.42      ,   3565.25      ,   1837.485     ,   8111.64      ,\n",
       "         7351.105     ,   6734.575     ,   5038.59      ,   5587.56      ,\n",
       "         1972.74      ,   7144.3875    ,   6725.625     ,   3139.935     ,\n",
       "         5061.395     ,   5233.305     ,   5352.18058333,   3320.83      ,\n",
       "        19378.36      ,   2477.85      ,   6987.5       ,   1496.515     ,\n",
       "         6265.13      ,   3867.405     ,  20503.09      ,   5254.78      ,\n",
       "        14431.907     ,   5495.625     ,  16381.46      ,   1881.67975   ,\n",
       "         4942.        ,   3715.65      ,   5258.91      ,   8140.255     ,\n",
       "         6222.085     ,   7854.39      ,   1789.5445    ,    845.195     ,\n",
       "         2357.14      ,   6114.5975    ,   1358.195     ,   1494.7       ,\n",
       "         1680.065     ,   5190.285     ,   2742.63916667,   8172.94883333,\n",
       "         3273.30410714,   1212.33      ,   3545.045     ,   6042.1455    ,\n",
       "         4259.425     ,    172.9       ,   1335.55      ,    379.81      ,\n",
       "         1054.83957143,   1958.07      ,   5374.99075   ,   9571.87594048,\n",
       "         7862.69      ,   2449.04      ,   4309.465     ,   7658.005     ,\n",
       "          288.48      ,   1709.5       ,  17077.14      ,   2920.38      ,\n",
       "         4717.535     ,   8223.48      ,  13706.91      ,   5498.7       ,\n",
       "         5219.785     ,   3368.575     ,   3162.33      ,   2701.765     ,\n",
       "         4468.775     ,   8674.05833333,   1846.52      ,   5228.325     ,\n",
       "         4732.04      ,   8742.495     ,   8083.69208333,   4836.753     ,\n",
       "        10341.10333333,   9523.84      ,   1923.01625   ,   2458.655     ,\n",
       "         1167.97      ,   5767.26      ,   5774.61      ,   4534.165     ,\n",
       "        17451.585     ,   5072.515     ,   3268.87      ,   1183.01      ,\n",
       "         5138.695     ,   5709.23      ,   7494.965     ,   5141.915     ,\n",
       "         5031.41      ,   1019.955     ,   6314.30216667,    894.53      ,\n",
       "        18179.19666667,   4977.395     ,   1587.15      ,    919.61      ,\n",
       "         2775.42      ,   6395.4       ,    300.29      ,   3001.685     ,\n",
       "         8589.755     ,   5669.05      ,   1589.09      ,   4088.945     ,\n",
       "         5268.09      ,   6665.91      ,    718.57      ,   3175.4       ,\n",
       "         2390.73      ,   1341.14      ,   3593.075     ,   7964.55      ,\n",
       "         3083.71      ,   2819.49      ,   4572.8475    ,   2024.555     ,\n",
       "          333.86      ,  12484.66      ,   5789.385     ,    670.685     ,\n",
       "        11674.32625   ,  11944.25032143,   1246.625     ,   4878.185     ,\n",
       "         6359.44      ,    802.92      ,    704.26      ,   5832.77166667,\n",
       "         1814.3375    ,    636.855     ,   1107.06      ,   3602.26416667,\n",
       "         6567.365     ,   5960.27      ,   4173.455     ,   8478.305     ,\n",
       "          313.935     ,    785.115     ,   7217.72      ,   6141.465     ,\n",
       "        11702.9       ,   2629.22333333,   7222.955     ,   1624.43      ,\n",
       "         5297.01      ,   7636.895     ,   1281.88      ,  17959.82      ,\n",
       "         9368.97333333,   5358.32      ,  12251.75      ,   2583.97      ,\n",
       "         6815.31333333,   4551.53      ,    254.07      ,   3367.658     ,\n",
       "         5247.9725    ,   6197.23      ,   5553.845     ,   2985.46166667,\n",
       "         3517.8325    ,   1658.725     ,   4806.47      ,   3825.28      ,\n",
       "         2625.395     ,   4118.1075    ,   5596.7775    ,   3162.33      ,\n",
       "         6247.54625   ,  12155.925     ,  15243.31091667,   3288.97      ,\n",
       "         4814.275     ,   4322.78      ,   1371.805     ,   3951.335     ,\n",
       "         4571.14      ,    524.35      ,   5709.705     ,   5914.33      ,\n",
       "         4012.9725    ,   6507.8625    ,   2642.61      ,   3583.87682143,\n",
       "         7161.67      ,   3907.98      ,   9087.905     ,    385.83      ,\n",
       "         1672.395     ,   7532.10625   ,   5594.81      ,   1135.84      ,\n",
       "         2404.67      ,   9068.205     ,   5381.7       ,   8194.52016667,\n",
       "         7016.11925   ,  10254.932     ,    789.075     ,   3928.915     ,\n",
       "         4171.99      ])"
      ]
     },
     "execution_count": 33,
     "metadata": {},
     "output_type": "execute_result"
    }
   ],
   "source": [
    "predictions"
   ]
  },
  {
   "cell_type": "code",
   "execution_count": 34,
   "metadata": {},
   "outputs": [
    {
     "data": {
      "text/plain": [
       "array([  319,  2760,  1702,  8341,  7516,  7315,  2983,  4575,  1546,\n",
       "        5311,  4093,  2466,  3962,  5603,  6113,  2223, 26285,  1113,\n",
       "        8377,  1884,  4981,  3343, 23042,  5063, 16717,  2416, 20013,\n",
       "        1725,  4918,  3189,  5307,  8350,  9404,  5814,   514,   584,\n",
       "        1802,  5091,  2075,  1667,   236,  3773,   657,  7997,   599,\n",
       "          73,  1810,  4520,  3852,    55,   883,   396,  1140,  1774,\n",
       "        5328,  6171,  8492,  1465,  3907,  6123,   312,  1162, 21893,\n",
       "        2935,  4596,  8980, 17732,  3684,  5313,  1330,  2635,  2198,\n",
       "        4423,  8686,  1520,  5005,  3282,  4345,  7645,  4431, 11664,\n",
       "       13695,  1840,  2294,   976,  4350,  4646,  3322, 25227,  1630,\n",
       "        1957,   653,  5378,  5240,  7788,  6077,  4989,   702,  5423,\n",
       "         568, 22287,  4602,  2117,   973,  4452,  4574,   241,  1629,\n",
       "        9859,  7087,  1235,  2318,  5471,  6542,   229,  3763,   985,\n",
       "         975,  3848,  8532,  2538,  1923,  5234,   814,   245, 15756,\n",
       "        4070,   494, 17725, 12034,  1146,   538,  6524,   787,   307,\n",
       "        4562,   661,   433,  1059,  2010,  7465,  4539,  2958,  9036,\n",
       "          51,   405,  6545,  6016, 14150,  1301,  7415,  1783,  5148,\n",
       "        7852,   740, 21779, 10094,  5178, 15067,  1475,  7886,  4131,\n",
       "         129,   252,  6528,  6190,  3941,  2305,  2087,  1600,  3306,\n",
       "        3038,  3147,  2038,  7320,  2635,  7306, 17457, 20958,  2721,\n",
       "        2701,  3079,   932,  3259,  3926,   497,  5414,  5352,  4964,\n",
       "        7253,  1350,  1895,  6606,  3198, 12854,   113,  1207,  7438,\n",
       "        5393,   732,  1638, 12626,  2710,  7652,  7656, 11211,   835,\n",
       "        2491,  3686])"
      ]
     },
     "execution_count": 34,
     "metadata": {},
     "output_type": "execute_result"
    }
   ],
   "source": [
    "test_labels.astype(int)"
   ]
  },
  {
   "cell_type": "code",
   "execution_count": 35,
   "metadata": {},
   "outputs": [
    {
     "name": "stdout",
     "output_type": "stream",
     "text": [
      "Mean Absolute Error: 1133.91 degrees.\n"
     ]
    }
   ],
   "source": [
    "# Calculate the absolute errors\n",
    "errors = abs(predictions - test_labels)\n",
    "\n",
    "# Print out the mean absolute error (mae)\n",
    "print('Mean Absolute Error:', round(np.mean(errors), 2), 'degrees.')"
   ]
  },
  {
   "cell_type": "code",
   "execution_count": 36,
   "metadata": {},
   "outputs": [
    {
     "name": "stdout",
     "output_type": "stream",
     "text": [
      "Accuracy: 39.48 %.\n"
     ]
    }
   ],
   "source": [
    "# Calculate mean absolute percentage error (MAPE)\n",
    "mape = 100 * (errors / test_labels)\n",
    "\n",
    "# Calculate and display accuracy\n",
    "accuracy = 100 - np.mean(mape)\n",
    "print('Accuracy:', round(accuracy, 2), '%.')"
   ]
  },
  {
   "cell_type": "code",
   "execution_count": 37,
   "metadata": {},
   "outputs": [
    {
     "name": "stdout",
     "output_type": "stream",
     "text": [
      "Variable: customer_reviews     Importance: 0.31\n",
      "Variable: discount_value       Importance: 0.13\n",
      "Variable: 4_rating             Importance: 0.12\n",
      "Variable: 5_rating             Importance: 0.11\n",
      "Variable: discount_rate        Importance: 0.11\n",
      "Variable: 1_rating             Importance: 0.09\n",
      "Variable: 3_rating             Importance: 0.08\n",
      "Variable: 2_rating             Importance: 0.06\n"
     ]
    }
   ],
   "source": [
    "# Get numerical feature importances\n",
    "importances = list(rf.feature_importances_)\n",
    "\n",
    "# List of tuples with variable and importance\n",
    "feature_importances = [(feature, round(importance, 2)) for feature, importance in zip(feature_list, importances)]\n",
    "\n",
    "# Sort the feature importances by most important first\n",
    "feature_importances = sorted(feature_importances, key = lambda x: x[1], reverse = True)\n",
    "\n",
    "# Print out the feature and importances \n",
    "[print('Variable: {:20} Importance: {}'.format(*pair)) for pair in feature_importances];"
   ]
  },
  {
   "cell_type": "code",
   "execution_count": 47,
   "metadata": {},
   "outputs": [
    {
     "data": {
      "image/png": "[encoded data removed]",
      "text/plain": [
       "<matplotlib.figure.Figure at 0x7f351ecdb278>"
      ]
     },
     "metadata": {},
     "output_type": "display_data"
    }
   ],
   "source": [
    "# Import matplotlib for plotting \n",
    "import matplotlib.pyplot as plt\n",
    "\n",
    "%matplotlib inline\n",
    "\n",
    "# Set the style\n",
    "plt.style.use('fivethirtyeight')\n",
    "\n",
    "# list of x locations for plotting\n",
    "x_values = list(range(len(importances)))\n",
    "\n",
    "# Make a bar chart\n",
    "plt.bar(x_values, importances, orientation = 'vertical')\n",
    "\n",
    "# Tick labels for x axis\n",
    "plt.xticks(x_values, feature_list, rotation = 'vertical')\n",
    "\n",
    "# Axis labels and title\n",
    "plt.ylabel('Importance')\n",
    "plt.xlabel('Variable')\n",
    "plt.title('Variable Importances');"
   ]
  },
  {
   "cell_type": "code",
   "execution_count": null,
   "metadata": {
    "collapsed": true
   },
   "outputs": [],
   "source": []
  }
 ],
 "metadata": {
  "kernelspec": {
   "display_name": "Python [conda env:anaconda3]",
   "language": "python",
   "name": "conda-env-anaconda3-py"
  },
  "language_info": {
   "codemirror_mode": {
    "name": "ipython",
    "version": 3
   },
   "file_extension": ".py",
   "mimetype": "text/x-python",
   "name": "python",
   "nbconvert_exporter": "python",
   "pygments_lexer": "ipython3",
   "version": "3.5.3"
  }
 },
 "nbformat": 4,
 "nbformat_minor": 2
}

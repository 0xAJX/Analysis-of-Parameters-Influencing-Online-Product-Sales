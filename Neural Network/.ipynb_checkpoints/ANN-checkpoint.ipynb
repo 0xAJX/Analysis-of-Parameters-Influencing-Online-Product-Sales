{
 "cells": [
  {
   "cell_type": "code",
   "execution_count": 2,
   "metadata": {},
   "outputs": [],
   "source": [
    "import pandas as pd"
   ]
  },
  {
   "cell_type": "code",
   "execution_count": 3,
   "metadata": {
    "collapsed": true
   },
   "outputs": [],
   "source": [
    "dataset = pd.read_csv('datafinal.csv')"
   ]
  },
  {
   "cell_type": "code",
   "execution_count": 4,
   "metadata": {
    "collapsed": true
   },
   "outputs": [],
   "source": [
    "dataset['sales_rank'] = dataset['sales_rank'].str.replace(',', '').astype(float)\n",
    "dataset['5_rating'] = dataset['5_rating'].astype('float')\n",
    "dataset['3_rating'] = dataset['3_rating'].astype('float')\n",
    "dataset['2_rating'] = dataset['2_rating'].astype('float')\n",
    "dataset['1_rating'] = dataset['1_rating'].astype('float')\n",
    "dataset['customer_reviews'] = dataset['customer_reviews'].str.replace(',', '').astype(float)\n",
    "dataset['discount_rate'] = dataset['discount_rate'].astype('float')"
   ]
  },
  {
   "cell_type": "code",
   "execution_count": 5,
   "metadata": {},
   "outputs": [
    {
     "name": "stdout",
     "output_type": "stream",
     "text": [
      "<class 'pandas.core.frame.DataFrame'>\n",
      "RangeIndex: 1042 entries, 0 to 1041\n",
      "Data columns (total 9 columns):\n",
      "sales_rank          1042 non-null float64\n",
      "5_rating            1042 non-null float64\n",
      "4_rating            1041 non-null float64\n",
      "3_rating            1042 non-null float64\n",
      "2_rating            1042 non-null float64\n",
      "1_rating            1042 non-null float64\n",
      "customer_reviews    1042 non-null float64\n",
      "discount_value      1041 non-null float64\n",
      "discount_rate       1042 non-null float64\n",
      "dtypes: float64(9)\n",
      "memory usage: 73.3 KB\n"
     ]
    }
   ],
   "source": [
    "dataset.info()"
   ]
  },
  {
   "cell_type": "code",
   "execution_count": 18,
   "metadata": {
    "collapsed": true
   },
   "outputs": [],
   "source": [
    "# X: independent variable matrix & y: dependent variable vector\n",
    "X = dataset.iloc[:,1:9].values\n",
    "# X = pd.DataFrame(X)\n",
    "Y  = dataset.iloc[:,0].values"
   ]
  },
  {
   "cell_type": "code",
   "execution_count": 20,
   "metadata": {},
   "outputs": [],
   "source": [
    "# splitting the dataset into training set and testing set \n",
    "from sklearn.cross_validation import train_test_split\n",
    "X_train, X_test, Y_train, Y_test = train_test_split(X, Y, test_size = 0.1, random_state = 0)\n"
   ]
  },
  {
   "cell_type": "code",
   "execution_count": 21,
   "metadata": {},
   "outputs": [],
   "source": [
    "# Importing keras libraries and packages\n",
    "import keras \n",
    "from keras.models import Sequential\n",
    "from keras.layers import Dense \n",
    "from keras.layers.core import Dropout"
   ]
  },
  {
   "cell_type": "code",
   "execution_count": 22,
   "metadata": {
    "collapsed": true
   },
   "outputs": [],
   "source": [
    "# Initializing the ANN\n",
    "model = Sequential()\n",
    "\n",
    "# Adding the input layer and the first hidden layer\n",
    "model.add(Dense(4, kernel_initializer = 'uniform' , activation = 'relu', input_dim = 8))    \n",
    "\n",
    "# model.add(Dropout(0.1))\n",
    "\n",
    "# Adding another hidden layer \n",
    "model.add(Dense(4, kernel_initializer = 'uniform', activation = 'relu'))\n",
    "\n",
    "# Adding the output layer \n",
    "model.add(Dense(units= 1, kernel_initializer = 'uniform', activation = 'linear'))        \n",
    "\n",
    "# Compiling the ANN\n",
    "model.compile(optimizer = 'rmsprop', loss = 'mse', metrics = ['accuracy'])\n"
   ]
  },
  {
   "cell_type": "code",
   "execution_count": 23,
   "metadata": {},
   "outputs": [
    {
     "name": "stdout",
     "output_type": "stream",
     "text": [
      "Train on 749 samples, validate on 188 samples\n",
      "Epoch 1/100\n",
      "749/749 [==============================] - 1s 2ms/step - loss: nan - acc: 0.0000e+00 - val_loss: nan - val_acc: 0.0000e+00\n",
      "Epoch 2/100\n",
      "749/749 [==============================] - 0s 480us/step - loss: nan - acc: 0.0000e+00 - val_loss: nan - val_acc: 0.0000e+00\n",
      "Epoch 3/100\n",
      "749/749 [==============================] - 0s 518us/step - loss: nan - acc: 0.0000e+00 - val_loss: nan - val_acc: 0.0000e+00\n",
      "Epoch 4/100\n",
      "749/749 [==============================] - 0s 557us/step - loss: nan - acc: 0.0000e+00 - val_loss: nan - val_acc: 0.0000e+00\n",
      "Epoch 5/100\n",
      "749/749 [==============================] - 0s 507us/step - loss: nan - acc: 0.0000e+00 - val_loss: nan - val_acc: 0.0000e+00\n",
      "Epoch 6/100\n",
      "749/749 [==============================] - 0s 550us/step - loss: nan - acc: 0.0000e+00 - val_loss: nan - val_acc: 0.0000e+00\n",
      "Epoch 7/100\n",
      "749/749 [==============================] - 0s 557us/step - loss: nan - acc: 0.0000e+00 - val_loss: nan - val_acc: 0.0000e+00\n",
      "Epoch 8/100\n",
      "749/749 [==============================] - 0s 526us/step - loss: nan - acc: 0.0000e+00 - val_loss: nan - val_acc: 0.0000e+00\n",
      "Epoch 9/100\n",
      "749/749 [==============================] - 0s 511us/step - loss: nan - acc: 0.0000e+00 - val_loss: nan - val_acc: 0.0000e+00\n",
      "Epoch 10/100\n",
      "749/749 [==============================] - 0s 503us/step - loss: nan - acc: 0.0000e+00 - val_loss: nan - val_acc: 0.0000e+00\n",
      "Epoch 11/100\n",
      "749/749 [==============================] - 0s 619us/step - loss: nan - acc: 0.0000e+00 - val_loss: nan - val_acc: 0.0000e+00\n",
      "Epoch 12/100\n",
      "749/749 [==============================] - 0s 528us/step - loss: nan - acc: 0.0000e+00 - val_loss: nan - val_acc: 0.0000e+00\n",
      "Epoch 13/100\n",
      "749/749 [==============================] - 0s 539us/step - loss: nan - acc: 0.0000e+00 - val_loss: nan - val_acc: 0.0000e+00\n",
      "Epoch 14/100\n",
      "749/749 [==============================] - 0s 528us/step - loss: nan - acc: 0.0000e+00 - val_loss: nan - val_acc: 0.0000e+00\n",
      "Epoch 15/100\n",
      "749/749 [==============================] - 0s 591us/step - loss: nan - acc: 0.0000e+00 - val_loss: nan - val_acc: 0.0000e+00\n",
      "Epoch 16/100\n",
      "749/749 [==============================] - 0s 606us/step - loss: nan - acc: 0.0000e+00 - val_loss: nan - val_acc: 0.0000e+00\n",
      "Epoch 17/100\n",
      "749/749 [==============================] - 0s 606us/step - loss: nan - acc: 0.0000e+00 - val_loss: nan - val_acc: 0.0000e+00\n",
      "Epoch 18/100\n",
      "749/749 [==============================] - 0s 547us/step - loss: nan - acc: 0.0000e+00 - val_loss: nan - val_acc: 0.0000e+00\n",
      "Epoch 19/100\n",
      "749/749 [==============================] - 0s 548us/step - loss: nan - acc: 0.0000e+00 - val_loss: nan - val_acc: 0.0000e+00\n",
      "Epoch 20/100\n",
      "749/749 [==============================] - 0s 542us/step - loss: nan - acc: 0.0000e+00 - val_loss: nan - val_acc: 0.0000e+00\n",
      "Epoch 21/100\n",
      "749/749 [==============================] - 0s 540us/step - loss: nan - acc: 0.0000e+00 - val_loss: nan - val_acc: 0.0000e+00\n",
      "Epoch 22/100\n",
      "749/749 [==============================] - 0s 518us/step - loss: nan - acc: 0.0000e+00 - val_loss: nan - val_acc: 0.0000e+00\n",
      "Epoch 23/100\n",
      "749/749 [==============================] - 0s 528us/step - loss: nan - acc: 0.0000e+00 - val_loss: nan - val_acc: 0.0000e+00\n",
      "Epoch 24/100\n",
      "749/749 [==============================] - 0s 530us/step - loss: nan - acc: 0.0000e+00 - val_loss: nan - val_acc: 0.0000e+00\n",
      "Epoch 25/100\n",
      "749/749 [==============================] - 0s 621us/step - loss: nan - acc: 0.0000e+00 - val_loss: nan - val_acc: 0.0000e+00\n",
      "Epoch 26/100\n",
      "749/749 [==============================] - 0s 553us/step - loss: nan - acc: 0.0000e+00 - val_loss: nan - val_acc: 0.0000e+00\n",
      "Epoch 27/100\n",
      "749/749 [==============================] - 0s 543us/step - loss: nan - acc: 0.0000e+00 - val_loss: nan - val_acc: 0.0000e+00\n",
      "Epoch 28/100\n",
      "749/749 [==============================] - 0s 613us/step - loss: nan - acc: 0.0000e+00 - val_loss: nan - val_acc: 0.0000e+00\n",
      "Epoch 29/100\n",
      "749/749 [==============================] - 0s 540us/step - loss: nan - acc: 0.0000e+00 - val_loss: nan - val_acc: 0.0000e+00\n",
      "Epoch 30/100\n",
      "749/749 [==============================] - 0s 536us/step - loss: nan - acc: 0.0000e+00 - val_loss: nan - val_acc: 0.0000e+00\n",
      "Epoch 31/100\n",
      "749/749 [==============================] - 0s 603us/step - loss: nan - acc: 0.0000e+00 - val_loss: nan - val_acc: 0.0000e+00\n",
      "Epoch 32/100\n",
      "749/749 [==============================] - 0s 597us/step - loss: nan - acc: 0.0000e+00 - val_loss: nan - val_acc: 0.0000e+00\n",
      "Epoch 33/100\n",
      "749/749 [==============================] - 0s 542us/step - loss: nan - acc: 0.0000e+00 - val_loss: nan - val_acc: 0.0000e+00\n",
      "Epoch 34/100\n",
      "749/749 [==============================] - 0s 603us/step - loss: nan - acc: 0.0000e+00 - val_loss: nan - val_acc: 0.0000e+00\n",
      "Epoch 35/100\n",
      "749/749 [==============================] - 0s 529us/step - loss: nan - acc: 0.0000e+00 - val_loss: nan - val_acc: 0.0000e+00\n",
      "Epoch 36/100\n",
      "749/749 [==============================] - 0s 517us/step - loss: nan - acc: 0.0000e+00 - val_loss: nan - val_acc: 0.0000e+00\n",
      "Epoch 37/100\n",
      "749/749 [==============================] - 0s 504us/step - loss: nan - acc: 0.0000e+00 - val_loss: nan - val_acc: 0.0000e+00\n",
      "Epoch 38/100\n",
      "749/749 [==============================] - 0s 517us/step - loss: nan - acc: 0.0000e+00 - val_loss: nan - val_acc: 0.0000e+00\n",
      "Epoch 39/100\n",
      "749/749 [==============================] - 0s 479us/step - loss: nan - acc: 0.0000e+00 - val_loss: nan - val_acc: 0.0000e+00\n",
      "Epoch 40/100\n",
      "749/749 [==============================] - 0s 618us/step - loss: nan - acc: 0.0000e+00 - val_loss: nan - val_acc: 0.0000e+00\n",
      "Epoch 41/100\n",
      "749/749 [==============================] - 0s 611us/step - loss: nan - acc: 0.0000e+00 - val_loss: nan - val_acc: 0.0000e+00\n",
      "Epoch 42/100\n",
      "749/749 [==============================] - 0s 602us/step - loss: nan - acc: 0.0000e+00 - val_loss: nan - val_acc: 0.0000e+00\n",
      "Epoch 43/100\n",
      "749/749 [==============================] - 0s 586us/step - loss: nan - acc: 0.0000e+00 - val_loss: nan - val_acc: 0.0000e+00\n",
      "Epoch 44/100\n",
      "749/749 [==============================] - 0s 589us/step - loss: nan - acc: 0.0000e+00 - val_loss: nan - val_acc: 0.0000e+00\n",
      "Epoch 45/100\n",
      "749/749 [==============================] - 0s 548us/step - loss: nan - acc: 0.0000e+00 - val_loss: nan - val_acc: 0.0000e+00\n",
      "Epoch 46/100\n",
      "749/749 [==============================] - 0s 556us/step - loss: nan - acc: 0.0000e+00 - val_loss: nan - val_acc: 0.0000e+00\n",
      "Epoch 47/100\n",
      "749/749 [==============================] - 0s 623us/step - loss: nan - acc: 0.0000e+00 - val_loss: nan - val_acc: 0.0000e+00\n",
      "Epoch 48/100\n",
      "749/749 [==============================] - 0s 535us/step - loss: nan - acc: 0.0000e+00 - val_loss: nan - val_acc: 0.0000e+00\n",
      "Epoch 49/100\n",
      "749/749 [==============================] - 0s 603us/step - loss: nan - acc: 0.0000e+00 - val_loss: nan - val_acc: 0.0000e+00\n",
      "Epoch 50/100\n",
      "749/749 [==============================] - 0s 532us/step - loss: nan - acc: 0.0000e+00 - val_loss: nan - val_acc: 0.0000e+00\n",
      "Epoch 51/100\n",
      "749/749 [==============================] - 0s 543us/step - loss: nan - acc: 0.0000e+00 - val_loss: nan - val_acc: 0.0000e+00\n",
      "Epoch 52/100\n",
      "749/749 [==============================] - 0s 603us/step - loss: nan - acc: 0.0000e+00 - val_loss: nan - val_acc: 0.0000e+00\n",
      "Epoch 53/100\n",
      "749/749 [==============================] - 0s 531us/step - loss: nan - acc: 0.0000e+00 - val_loss: nan - val_acc: 0.0000e+00\n",
      "Epoch 54/100\n",
      "749/749 [==============================] - 0s 528us/step - loss: nan - acc: 0.0000e+00 - val_loss: nan - val_acc: 0.0000e+00\n",
      "Epoch 55/100\n",
      "749/749 [==============================] - 0s 545us/step - loss: nan - acc: 0.0000e+00 - val_loss: nan - val_acc: 0.0000e+00\n",
      "Epoch 56/100\n",
      "749/749 [==============================] - 0s 587us/step - loss: nan - acc: 0.0000e+00 - val_loss: nan - val_acc: 0.0000e+00\n",
      "Epoch 57/100\n",
      "749/749 [==============================] - 0s 527us/step - loss: nan - acc: 0.0000e+00 - val_loss: nan - val_acc: 0.0000e+00\n",
      "Epoch 58/100\n",
      "749/749 [==============================] - 0s 568us/step - loss: nan - acc: 0.0000e+00 - val_loss: nan - val_acc: 0.0000e+00\n",
      "Epoch 59/100\n",
      "749/749 [==============================] - 0s 506us/step - loss: nan - acc: 0.0000e+00 - val_loss: nan - val_acc: 0.0000e+00\n",
      "Epoch 60/100\n"
     ]
    },
    {
     "name": "stdout",
     "output_type": "stream",
     "text": [
      "749/749 [==============================] - 0s 546us/step - loss: nan - acc: 0.0000e+00 - val_loss: nan - val_acc: 0.0000e+00\n",
      "Epoch 61/100\n",
      "749/749 [==============================] - 0s 523us/step - loss: nan - acc: 0.0000e+00 - val_loss: nan - val_acc: 0.0000e+00\n",
      "Epoch 62/100\n",
      "749/749 [==============================] - 0s 523us/step - loss: nan - acc: 0.0000e+00 - val_loss: nan - val_acc: 0.0000e+00\n",
      "Epoch 63/100\n",
      "749/749 [==============================] - 0s 481us/step - loss: nan - acc: 0.0000e+00 - val_loss: nan - val_acc: 0.0000e+00\n",
      "Epoch 64/100\n",
      "749/749 [==============================] - 0s 484us/step - loss: nan - acc: 0.0000e+00 - val_loss: nan - val_acc: 0.0000e+00\n",
      "Epoch 65/100\n",
      "749/749 [==============================] - 0s 554us/step - loss: nan - acc: 0.0000e+00 - val_loss: nan - val_acc: 0.0000e+00\n",
      "Epoch 66/100\n",
      "749/749 [==============================] - 0s 549us/step - loss: nan - acc: 0.0000e+00 - val_loss: nan - val_acc: 0.0000e+00\n",
      "Epoch 67/100\n",
      "749/749 [==============================] - 0s 497us/step - loss: nan - acc: 0.0000e+00 - val_loss: nan - val_acc: 0.0000e+00\n",
      "Epoch 68/100\n",
      "749/749 [==============================] - 0s 500us/step - loss: nan - acc: 0.0000e+00 - val_loss: nan - val_acc: 0.0000e+00\n",
      "Epoch 69/100\n",
      "749/749 [==============================] - 0s 494us/step - loss: nan - acc: 0.0000e+00 - val_loss: nan - val_acc: 0.0000e+00\n",
      "Epoch 70/100\n",
      "749/749 [==============================] - 0s 485us/step - loss: nan - acc: 0.0000e+00 - val_loss: nan - val_acc: 0.0000e+00\n",
      "Epoch 71/100\n",
      "749/749 [==============================] - 0s 517us/step - loss: nan - acc: 0.0000e+00 - val_loss: nan - val_acc: 0.0000e+00\n",
      "Epoch 72/100\n",
      "749/749 [==============================] - 0s 492us/step - loss: nan - acc: 0.0000e+00 - val_loss: nan - val_acc: 0.0000e+00\n",
      "Epoch 73/100\n",
      "749/749 [==============================] - 0s 490us/step - loss: nan - acc: 0.0000e+00 - val_loss: nan - val_acc: 0.0000e+00\n",
      "Epoch 74/100\n",
      "749/749 [==============================] - 0s 475us/step - loss: nan - acc: 0.0000e+00 - val_loss: nan - val_acc: 0.0000e+00\n",
      "Epoch 75/100\n",
      "749/749 [==============================] - 0s 514us/step - loss: nan - acc: 0.0000e+00 - val_loss: nan - val_acc: 0.0000e+00\n",
      "Epoch 76/100\n",
      "749/749 [==============================] - 0s 470us/step - loss: nan - acc: 0.0000e+00 - val_loss: nan - val_acc: 0.0000e+00\n",
      "Epoch 77/100\n",
      "749/749 [==============================] - 0s 497us/step - loss: nan - acc: 0.0000e+00 - val_loss: nan - val_acc: 0.0000e+00\n",
      "Epoch 78/100\n",
      "749/749 [==============================] - 0s 499us/step - loss: nan - acc: 0.0000e+00 - val_loss: nan - val_acc: 0.0000e+00\n",
      "Epoch 79/100\n",
      "749/749 [==============================] - 0s 510us/step - loss: nan - acc: 0.0000e+00 - val_loss: nan - val_acc: 0.0000e+00\n",
      "Epoch 80/100\n",
      "749/749 [==============================] - 0s 498us/step - loss: nan - acc: 0.0000e+00 - val_loss: nan - val_acc: 0.0000e+00\n",
      "Epoch 81/100\n",
      "749/749 [==============================] - 0s 474us/step - loss: nan - acc: 0.0000e+00 - val_loss: nan - val_acc: 0.0000e+00\n",
      "Epoch 82/100\n",
      "749/749 [==============================] - 0s 483us/step - loss: nan - acc: 0.0000e+00 - val_loss: nan - val_acc: 0.0000e+00\n",
      "Epoch 83/100\n",
      "749/749 [==============================] - 0s 487us/step - loss: nan - acc: 0.0000e+00 - val_loss: nan - val_acc: 0.0000e+00\n",
      "Epoch 84/100\n",
      "749/749 [==============================] - 0s 487us/step - loss: nan - acc: 0.0000e+00 - val_loss: nan - val_acc: 0.0000e+00\n",
      "Epoch 85/100\n",
      "749/749 [==============================] - 0s 480us/step - loss: nan - acc: 0.0000e+00 - val_loss: nan - val_acc: 0.0000e+00\n",
      "Epoch 86/100\n",
      "749/749 [==============================] - 0s 600us/step - loss: nan - acc: 0.0000e+00 - val_loss: nan - val_acc: 0.0000e+00\n",
      "Epoch 87/100\n",
      "749/749 [==============================] - 0s 605us/step - loss: nan - acc: 0.0000e+00 - val_loss: nan - val_acc: 0.0000e+00\n",
      "Epoch 88/100\n",
      "749/749 [==============================] - 0s 513us/step - loss: nan - acc: 0.0000e+00 - val_loss: nan - val_acc: 0.0000e+00\n",
      "Epoch 89/100\n",
      "749/749 [==============================] - 0s 562us/step - loss: nan - acc: 0.0000e+00 - val_loss: nan - val_acc: 0.0000e+00\n",
      "Epoch 90/100\n",
      "749/749 [==============================] - 0s 593us/step - loss: nan - acc: 0.0000e+00 - val_loss: nan - val_acc: 0.0000e+00\n",
      "Epoch 91/100\n",
      "749/749 [==============================] - 0s 559us/step - loss: nan - acc: 0.0000e+00 - val_loss: nan - val_acc: 0.0000e+00\n",
      "Epoch 92/100\n",
      "749/749 [==============================] - 0s 524us/step - loss: nan - acc: 0.0000e+00 - val_loss: nan - val_acc: 0.0000e+00\n",
      "Epoch 93/100\n",
      "749/749 [==============================] - 0s 577us/step - loss: nan - acc: 0.0000e+00 - val_loss: nan - val_acc: 0.0000e+00\n",
      "Epoch 94/100\n",
      "749/749 [==============================] - 0s 561us/step - loss: nan - acc: 0.0000e+00 - val_loss: nan - val_acc: 0.0000e+00\n",
      "Epoch 95/100\n",
      "749/749 [==============================] - 0s 535us/step - loss: nan - acc: 0.0000e+00 - val_loss: nan - val_acc: 0.0000e+00\n",
      "Epoch 96/100\n",
      "749/749 [==============================] - 0s 584us/step - loss: nan - acc: 0.0000e+00 - val_loss: nan - val_acc: 0.0000e+00\n",
      "Epoch 97/100\n",
      "749/749 [==============================] - 0s 607us/step - loss: nan - acc: 0.0000e+00 - val_loss: nan - val_acc: 0.0000e+00\n",
      "Epoch 98/100\n",
      "749/749 [==============================] - 0s 560us/step - loss: nan - acc: 0.0000e+00 - val_loss: nan - val_acc: 0.0000e+00\n",
      "Epoch 99/100\n",
      "749/749 [==============================] - 0s 531us/step - loss: nan - acc: 0.0000e+00 - val_loss: nan - val_acc: 0.0000e+00\n",
      "Epoch 100/100\n",
      "749/749 [==============================] - 0s 543us/step - loss: nan - acc: 0.0000e+00 - val_loss: nan - val_acc: 0.0000e+00\n"
     ]
    },
    {
     "data": {
      "text/plain": [
       "<keras.callbacks.History at 0x7fa62c2fd978>"
      ]
     },
     "execution_count": 23,
     "metadata": {},
     "output_type": "execute_result"
    }
   ],
   "source": [
    "# Fitting the ANN to the training set \n",
    "model.fit(X_train, Y_train, batch_size = 10, epochs = 100, validation_split=0.2)"
   ]
  },
  {
   "cell_type": "code",
   "execution_count": 24,
   "metadata": {
    "collapsed": true
   },
   "outputs": [],
   "source": [
    "Y_pred = model.predict(X_test)"
   ]
  },
  {
   "cell_type": "code",
   "execution_count": null,
   "metadata": {
    "collapsed": true
   },
   "outputs": [],
   "source": [
    "# Calculate the absolute berrors\n",
    "errors = abs(predictions - test_labels)\n",
    "\n",
    "# Print out the mean absolute error (mae)\n",
    "print('Mean Absolute Error:', round(np.mean(errors), 2), 'degrees.')"
   ]
  },
  {
   "cell_type": "code",
   "execution_count": null,
   "metadata": {
    "collapsed": true
   },
   "outputs": [],
   "source": [
    "# Calculate mean absolute percentage error (MAPE)\n",
    "mape = 100 * (errors / test_labels)\n",
    "\n",
    "# Calculate and display accuracy\n",
    "accuracy = 100 - np.mean(mape)\n",
    "print('Accuracy:', round(accuracy, 2), '%.')"
   ]
  }
 ],
 "metadata": {
  "kernelspec": {
   "display_name": "Python [conda env:anaconda3]",
   "language": "python",
   "name": "conda-env-anaconda3-py"
  },
  "language_info": {
   "codemirror_mode": {
    "name": "ipython",
    "version": 3
   },
   "file_extension": ".py",
   "mimetype": "text/x-python",
   "name": "python",
   "nbconvert_exporter": "python",
   "pygments_lexer": "ipython3",
   "version": "3.5.3"
  }
 },
 "nbformat": 4,
 "nbformat_minor": 2
}
